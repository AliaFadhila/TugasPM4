{
  "nbformat": 4,
  "nbformat_minor": 0,
  "metadata": {
    "colab": {
      "name": "Quiz 4 Pembelajaran Mesin.ipynb",
      "provenance": []
    },
    "kernelspec": {
      "name": "python3",
      "display_name": "Python 3"
    },
    "language_info": {
      "name": "python"
    }
  },
  "cells": [
    {
      "cell_type": "code",
      "execution_count": null,
      "metadata": {
        "id": "QXSZIecA63jY"
      },
      "outputs": [],
      "source": [
        "#Nama        : Alia Fadhilatun Nisa\n",
        "#NIM         : 1197050011\n",
        "#Mata Kuliah : Teori dan Praktikum Pembelajaran Mesin\n",
        "#Tugas       : Quiz 4"
      ]
    },
    {
      "cell_type": "code",
      "source": [
        "import numpy as np\n",
        "import matplotlib.pyplot as plt\n",
        "import pandas as pd\n",
        "url = 'https://raw.githubusercontent.com/WildanBudiawanZ/pembelajaran-mesin/main/FuelConsumptionCo2.csv'\n",
        "cdf = pd.read_csv(url)\n",
        "\n",
        "cdf.describe()"
      ],
      "metadata": {
        "id": "hYbFlXfS6-WH"
      },
      "execution_count": null,
      "outputs": []
    },
    {
      "cell_type": "code",
      "source": [
        "cdf.head()"
      ],
      "metadata": {
        "id": "NZtVL6rz7FZZ"
      },
      "execution_count": null,
      "outputs": []
    },
    {
      "cell_type": "code",
      "source": [
        "cdf.dtypes\n",
        "cdf = cdf.select_dtypes(include = ['int64','float64'])\n",
        "cdf = cdf.fillna(cdf.mean())\n",
        "cdf"
      ],
      "metadata": {
        "id": "5zh0sVdl7Jxr"
      },
      "execution_count": null,
      "outputs": []
    },
    {
      "cell_type": "code",
      "source": [
        "plt.scatter(cdf.ENGINESIZE, cdf.CO2EMISSIONS,  color='red')\n",
        "plt.scatter(cdf.CYLINDERS, cdf.CO2EMISSIONS,  color='green')\n",
        "plt.scatter(cdf.FUELCONSUMPTION_CITY, cdf.CO2EMISSIONS,  color='grey')\n",
        "plt.scatter(cdf.FUELCONSUMPTION_HWY, cdf.CO2EMISSIONS,  color='purple')\n",
        "plt.scatter(cdf.FUELCONSUMPTION_COMB, cdf.CO2EMISSIONS,  color='yellow')\n",
        "plt.scatter(cdf.FUELCONSUMPTION_COMB_MPG, cdf.CO2EMISSIONS,  color='blue')\n",
        "# plt.scatter(cdf.CYLINDERS, cdf.CO2EMISSIONS,  color='green')\n",
        "plt.xlabel(\"Engine size\")\n",
        "plt.ylabel(\"Emission\")\n",
        "plt.show()"
      ],
      "metadata": {
        "id": "Dy5Gh8xJ7OFF"
      },
      "execution_count": null,
      "outputs": []
    },
    {
      "cell_type": "code",
      "source": [
        "import pandas as pd\n",
        "from sklearn.model_selection import train_test_split\n",
        "from sklearn.preprocessing import StandardScaler\n",
        "# get the \"engine size\" as the independent variable (regressor)\n",
        "X = cdf.drop('CO2EMISSIONS', axis=1)\n",
        "\n",
        "# get the \"emission\" as the dependent variable\n",
        "y = cdf['CO2EMISSIONS']\n",
        "\n",
        "print(X)\n",
        "print(y)\n",
        "\n",
        "\n",
        "\n",
        "# Splitting the dataset into the Training set and Test set\n",
        "X_train, X_test, y_train, y_test = train_test_split(X, y, test_size = 0.2, random_state = 0)\n",
        "\n",
        "# Feature Scaling\n",
        "sc_X = StandardScaler()\n",
        "sc_y = StandardScaler()"
      ],
      "metadata": {
        "id": "Y-yVG-MY7TKu"
      },
      "execution_count": null,
      "outputs": []
    },
    {
      "cell_type": "code",
      "source": [
        "# Fitting Random Forest Regression to the dataset\n",
        "from sklearn.ensemble import RandomForestRegressor\n",
        "regressor = RandomForestRegressor(n_estimators = 100)\n",
        "regressor.fit(X_train, y_train)"
      ],
      "metadata": {
        "id": "Qj9beHJy7Yc8"
      },
      "execution_count": null,
      "outputs": []
    },
    {
      "cell_type": "code",
      "source": [
        "# Predicting a new result\n",
        "# y_pred = regressor.predict([[2014,1.3,6,10.0,8.6,4.9,90]])\n",
        "y_pred = regressor.predict(X_test)\n",
        "# y_pred = y_pred.reshape(-1, 1)\n",
        "# y_pred = sc_y.inverse_transform(y_pred)\n",
        "y_pred"
      ],
      "metadata": {
        "id": "v77Z2T-y7db1"
      },
      "execution_count": null,
      "outputs": []
    },
    {
      "cell_type": "code",
      "source": [
        "# Visualising the Random Forest Regression results (higher resolution) with scaling value\n",
        "import seaborn as sns\n",
        "plt.figure(figsize=(5, 7))\n",
        "\n",
        "\n",
        "ax = sns.distplot(y, hist=False, color=\"g\", label=\"Actual Value\")\n",
        "sns.distplot(y_pred, hist=False, color=\"y\", label=\"Fitted Values\" , ax=ax)\n",
        "\n",
        "\n",
        "plt.title('Actual vs Fitted Values for Emmission')\n",
        "\n",
        "\n",
        "plt.show()\n",
        "plt.close()"
      ],
      "metadata": {
        "id": "kGyUOyJ67e43"
      },
      "execution_count": null,
      "outputs": []
    }
  ]
}